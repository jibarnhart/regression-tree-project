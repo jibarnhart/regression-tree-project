{
 "cells": [
  {
   "cell_type": "code",
   "execution_count": 1,
   "id": "2ad63c24",
   "metadata": {},
   "outputs": [],
   "source": [
    "import pandas as pd\n",
    "import numpy as np\n",
    "import statsmodels.api as sm\n",
    "import sklearn.model_selection as ms\n",
    "import matplotlib.pyplot as plt\n",
    "from sklearn import metrics\n",
    "from sklearn.metrics import mean_squared_error\n",
    "from sklearn.linear_model import LinearRegression\n",
    "from sklearn.ensemble import RandomForestRegressor, GradientBoostingRegressor\n",
    "from sklearn.ensemble import RandomForestClassifier, GradientBoostingClassifier"
   ]
  },
  {
   "cell_type": "code",
   "execution_count": 2,
   "id": "4da9140b",
   "metadata": {},
   "outputs": [],
   "source": [
    "def classification_metrics(Y_true, Y_pred):\n",
    "    ## Shape of Classification Matrix\n",
    "    ## TP  FN\n",
    "    ## FP  TN\n",
    "    n = np.shape(Y_true)[0]\n",
    "    class metric:\n",
    "        matrix = np.empty((2,2))\n",
    "        recall = float()\n",
    "        specificity = float()\n",
    "        fallout = float()\n",
    "        ppv = float()\n",
    "        accuracy = float()\n",
    "        missclassification = float()\n",
    "    metrics = metric()\n",
    "    tp = tn = fp = fn = 0\n",
    "    for i in range(n):\n",
    "        if Y_true[i] == Y_pred[i]:\n",
    "            if Y_true[i] == 1:\n",
    "                tp += 1\n",
    "            if Y_true[i] == 0:\n",
    "                tn += 1\n",
    "        if Y_true[i] != Y_pred[i]:\n",
    "            if Y_true[i] == 1:\n",
    "                fn += 1\n",
    "            if Y_true[i] == 0:\n",
    "                fp += 1\n",
    "    confusion = np.array([[tp, fn], [fp, tn]])\n",
    "    metrics.matrix = confusion\n",
    "    metrics.recall = confusion[0,0]/(confusion[0,0]+confusion[0,1])\n",
    "    metrics.specificity = confusion[1,1]/(confusion[1,1]+confusion[1,0])\n",
    "    metrics.fallout = confusion[1,0]/(confusion[1,0]+confusion[1,1])\n",
    "    metrics.ppv = confusion[0,0]/(confusion[0,0]+confusion[1,0])\n",
    "    metrics.accuracy = (confusion[0,0]+confusion[1,1])/np.sum(confusion)\n",
    "    metrics.missclassification = (confusion[0,1]+confusion[1,0])/np.sum(confusion)\n",
    "    \n",
    "    return metrics\n",
    "\n",
    "def print_metrics(metrics):\n",
    "    print('The confusion matrix is        ', metrics.matrix[0,:])\n",
    "    print('                               ', metrics.matrix[1,:])\n",
    "    print('\\n')\n",
    "    print('The metrics are:        Fallout =', round(metrics.fallout,4),\n",
    "          '               Recall =', round(metrics.recall,4))\n",
    "    print('                    Specificity =', round(metrics.specificity,4),\n",
    "          '                  PPV =', round(metrics.ppv,4))\n",
    "    print('                       Accuracy =', round(metrics.accuracy,4),\n",
    "          ' Missclass Error Rate =', round(metrics.missclassification,4))"
   ]
  },
  {
   "cell_type": "code",
   "execution_count": 4,
   "id": "3004a93b",
   "metadata": {},
   "outputs": [
    {
     "name": "stdout",
     "output_type": "stream",
     "text": [
      "\n",
      "DataFrame datatypes :\n",
      " number_of_elements         int64\n",
      "mean_atomic_mass         float64\n",
      "wtd_mean_atomic_mass     float64\n",
      "gmean_atomic_mass        float64\n",
      "wtd_gmean_atomic_mass    float64\n",
      "                          ...   \n",
      "range_Valence              int64\n",
      "wtd_range_Valence        float64\n",
      "std_Valence              float64\n",
      "wtd_std_Valence          float64\n",
      "critical_temp            float64\n",
      "Length: 82, dtype: object\n"
     ]
    }
   ],
   "source": [
    "conductivity = pd.read_csv(\"data/train.csv\", header=0, na_values='?').dropna()\n",
    "conductivity.head()\n",
    "print('\\nDataFrame datatypes :\\n', conductivity.dtypes)"
   ]
  },
  {
   "cell_type": "code",
   "execution_count": 5,
   "id": "cbc4c837",
   "metadata": {},
   "outputs": [],
   "source": [
    "X = conductivity.drop(['critical_temp'], axis=1) \n",
    "X = X.values \n",
    "Y = conductivity.iloc[:,81:82].values\n",
    "\n",
    "import sklearn.model_selection as cv \n",
    "XTrain, XTest, YTrain, Ytest = cv.train_test_split(X, Y, test_size=0.2, random_state=42)"
   ]
  },
  {
   "cell_type": "markdown",
   "id": "8ed6678a",
   "metadata": {},
   "source": [
    "We are going to tune the max number of leaves and the max depth for a regression tree."
   ]
  },
  {
   "cell_type": "code",
   "execution_count": 7,
   "id": "7baedaf8",
   "metadata": {},
   "outputs": [
    {
     "data": {
      "text/plain": [
       "10"
      ]
     },
     "execution_count": 7,
     "metadata": {},
     "output_type": "execute_result"
    }
   ],
   "source": [
    "depth = np.arange(2,11)\n",
    "leaves = np.arange(1,31,step=9)\n",
    "\n",
    "from sklearn import tree\n",
    "\n",
    "grid_decision = grid_bagged = [{'max_depth': depth, 'min_samples_leaf': leaves}]\n",
    "\n",
    "decision_model = tree.DecisionTreeRegressor(criterion='mse')\n",
    "bagged_model = RandomForestRegressor(max_features=81, random_state=42)\n",
    "\n",
    "from sklearn.model_selection import GridSearchCV\n",
    "\n",
    "cv_decision = GridSearchCV(estimator = decision_model, \n",
    "                           param_grid=grid_decision,\n",
    "                           cv=ms.KFold(n_splits=10))\n",
    "\n",
    "cv_decision.fit(XTrain, YTrain)\n",
    "\n",
    "best_decision_depth = cv_decision.best_params_['max_depth']\n",
    "best_decision_samples = cv_decision.best_params_['min_samples_leaf']"
   ]
  },
  {
   "cell_type": "markdown",
   "id": "9a3a04d5",
   "metadata": {},
   "source": [
    "First we fit our regression tree, after which we consider some ensemble methods."
   ]
  },
  {
   "cell_type": "code",
   "execution_count": 8,
   "id": "cccded2c",
   "metadata": {},
   "outputs": [
    {
     "data": {
      "text/plain": [
       "DecisionTreeRegressor(max_depth=10, min_samples_leaf=10)"
      ]
     },
     "execution_count": 8,
     "metadata": {},
     "output_type": "execute_result"
    }
   ],
   "source": [
    "decision_model = tree.DecisionTreeRegressor(criterion='mse',\n",
    "                                            max_depth=10,\n",
    "                                            min_samples_leaf=10)\n",
    "decision_model.fit(XTrain,YTrain)"
   ]
  },
  {
   "cell_type": "code",
   "execution_count": 9,
   "id": "fc93d012",
   "metadata": {},
   "outputs": [
    {
     "data": {
      "text/plain": [
       "150.068932524657"
      ]
     },
     "execution_count": 9,
     "metadata": {},
     "output_type": "execute_result"
    }
   ],
   "source": [
    "decision_train_pred = decision_model.predict(XTrain)\n",
    "decision_test_pred = decision_model.predict(XTest)\n",
    "decision_train_mse = mean_squared_error(YTrain, decision_train_pred)\n",
    "decision_test_mse = mean_squared_error(Ytest, decision_test_pred)"
   ]
  },
  {
   "cell_type": "code",
   "execution_count": 10,
   "id": "a9104dc5",
   "metadata": {},
   "outputs": [
    {
     "name": "stdout",
     "output_type": "stream",
     "text": [
      "The five most important variables are ['range_ThermalConductivity', 'wtd_gmean_ThermalConductivity', 'std_Density', 'wtd_gmean_Valence', 'wtd_range_Valence'] with importances [0.5896, 0.1352, 0.0296, 0.0194, 0.0189] respectively\n",
      "Decision tree training MSE is: 118.1069  and the testing MSE is: 150.0689\n"
     ]
    },
    {
     "data": {
      "image/png": "[encoded data removed]",
      "text/plain": [
       "<Figure size 432x288 with 1 Axes>"
      ]
     },
     "metadata": {
      "needs_background": "light"
     },
     "output_type": "display_data"
    }
   ],
   "source": [
    "decision_model.feature_importances_\n",
    "plt.bar(x=range(81),height=decision_model.feature_importances_)\n",
    "importance_dec = pd.DataFrame(decision_model.feature_importances_,columns=['Importance'])\n",
    "importance_dec.insert(0, 'Variable', range(0,81))\n",
    "importance_dec = importance_dec.sort_values(by=['Importance'], ascending=False)\n",
    "names1 = conductivity.columns[importance_dec.iloc[0:5,0]]\n",
    "high1 = round(importance_dec.iloc[0:5,1],4)\n",
    "print('The five most important variables are', list(names1), 'with importances', list(high1), 'respectively')\n",
    "\n",
    "print('Decision tree training MSE is:', round(decision_train_mse,4),\n",
    "      ' and the testing MSE is:', round(decision_test_mse, 4))"
   ]
  },
  {
   "cell_type": "markdown",
   "id": "6208ec8a",
   "metadata": {},
   "source": [
    "The ensemble methods under consideration are bagging, random forest and boosted regression trees."
   ]
  },
  {
   "cell_type": "code",
   "execution_count": 11,
   "id": "a298f096",
   "metadata": {},
   "outputs": [
    {
     "data": {
      "text/plain": [
       "GradientBoostingRegressor(learning_rate=0.2, max_depth=4, n_estimators=500,\n",
       "                          random_state=42)"
      ]
     },
     "execution_count": 11,
     "metadata": {},
     "output_type": "execute_result"
    }
   ],
   "source": [
    "bagged_model = RandomForestRegressor(max_features=81, random_state=42)\n",
    "bagged_model.fit(XTrain,np.ravel(YTrain))\n",
    "\n",
    "rforest_model = RandomForestRegressor(max_features=9, random_state=42)\n",
    "rforest_model.fit(XTrain, np.ravel(YTrain))\n",
    "\n",
    "boosted_model = GradientBoostingRegressor(n_estimators=500,\n",
    "                                          learning_rate=0.2,\n",
    "                                          max_depth=4,\n",
    "                                          random_state=42)\n",
    "boosted_model.fit(XTrain, np.ravel(YTrain))"
   ]
  },
  {
   "cell_type": "code",
   "execution_count": 12,
   "id": "d3b1fcb3",
   "metadata": {},
   "outputs": [
    {
     "name": "stdout",
     "output_type": "stream",
     "text": [
      "The five most important variables are ['range_ThermalConductivity', 'wtd_gmean_ThermalConductivity', 'std_atomic_mass', 'wtd_gmean_Valence', 'wtd_entropy_ThermalConductivity'] with importances [0.5364, 0.1262, 0.0231, 0.0191, 0.0122] respectively\n",
      "Bagged tree training MSE is: 26.2656  and the testing MSE is: 81.4034\n"
     ]
    },
    {
     "data": {
      "image/png": "[encoded data removed]",
      "text/plain": [
       "<Figure size 432x288 with 1 Axes>"
      ]
     },
     "metadata": {
      "needs_background": "light"
     },
     "output_type": "display_data"
    }
   ],
   "source": [
    "bagged_train_pred = bagged_model.predict(XTrain)\n",
    "bagged_test_pred = bagged_model.predict(XTest)\n",
    "bagged_train_mse = mean_squared_error(YTrain, bagged_train_pred) ## = 26.2656\n",
    "bagged_test_mse = mean_squared_error(Ytest, bagged_test_pred) ## = 81.4034\n",
    "\n",
    "plt.bar(x=range(81),height=bagged_model.feature_importances_)\n",
    "importance_bagged = pd.DataFrame(bagged_model.feature_importances_,columns=['Importance'])\n",
    "importance_bagged.insert(0, 'Variable', range(0,81))\n",
    "importance_bagged = importance_bagged.sort_values(by=['Importance'], ascending=False)\n",
    "names2 = conductivity.columns[importance_bagged.iloc[0:5,0]]\n",
    "high2 = round(importance_bagged.iloc[0:5,1],4)\n",
    "print('The five most important variables are', list(names2), 'with importances', list(high2), 'respectively')\n",
    "\n",
    "print('Bagged tree training MSE is:', round(bagged_train_mse,4),\n",
    "      ' and the testing MSE is:', round(bagged_test_mse, 4))"
   ]
  },
  {
   "cell_type": "code",
   "execution_count": 13,
   "id": "ea8713d7",
   "metadata": {},
   "outputs": [
    {
     "name": "stdout",
     "output_type": "stream",
     "text": [
      "The five most important variables are ['range_ThermalConductivity', 'wtd_std_ThermalConductivity', 'wtd_mean_Valence', 'wtd_entropy_Valence', 'wtd_entropy_atomic_mass'] with importances [0.1, 0.0867, 0.0801, 0.0545, 0.0539] respectively\n",
      "Random Forest tree training MSE is: 25.8544  and the testing MSE is: 80.5137\n"
     ]
    },
    {
     "data": {
      "image/png": "[encoded data removed]",
      "text/plain": [
       "<Figure size 432x288 with 1 Axes>"
      ]
     },
     "metadata": {
      "needs_background": "light"
     },
     "output_type": "display_data"
    }
   ],
   "source": [
    "rforest_train_pred = rforest_model.predict(XTrain)\n",
    "rforest_test_pred = rforest_model.predict(XTest)\n",
    "rforest_train_mse = mean_squared_error(YTrain, rforest_train_pred)\n",
    "rforest_test_mse = mean_squared_error(Ytest, rforest_test_pred)\n",
    "\n",
    "plt.bar(x=range(81),height=rforest_model.feature_importances_)\n",
    "importance_rforest = pd.DataFrame(rforest_model.feature_importances_,columns=['Importance'])\n",
    "importance_rforest.insert(0, 'Variable', range(0,81))\n",
    "importance_rforest = importance_rforest.sort_values(by=['Importance'], ascending=False)\n",
    "names3 = conductivity.columns[importance_rforest.iloc[0:5,0]]\n",
    "high3 = round(importance_rforest.iloc[0:5,1],4)\n",
    "print('The five most important variables are', list(names3), 'with importances', list(high3), 'respectively')\n",
    "\n",
    "print('Random Forest tree training MSE is:', round(rforest_train_mse,4),\n",
    "      ' and the testing MSE is:', round(rforest_test_mse, 4))"
   ]
  },
  {
   "cell_type": "code",
   "execution_count": 14,
   "id": "b4ff7d7f",
   "metadata": {},
   "outputs": [
    {
     "name": "stdout",
     "output_type": "stream",
     "text": [
      "The five most important variables are ['range_ThermalConductivity', 'wtd_gmean_ThermalConductivity', 'range_atomic_radius', 'wtd_mean_ThermalConductivity', 'wtd_gmean_Valence'] with importances [0.4568, 0.0938, 0.0841, 0.0286, 0.0262] respectively\n",
      "Boosted tree training MSE is: 35.1898  and the testing MSE is: 89.3064\n"
     ]
    },
    {
     "data": {
      "image/png": "[encoded data removed]",
      "text/plain": [
       "<Figure size 432x288 with 1 Axes>"
      ]
     },
     "metadata": {
      "needs_background": "light"
     },
     "output_type": "display_data"
    }
   ],
   "source": [
    "boosted_train_pred = boosted_model.predict(XTrain)\n",
    "boosted_test_pred = boosted_model.predict(XTest)\n",
    "boosted_train_mse = mean_squared_error(YTrain, boosted_train_pred)\n",
    "boosted_test_mse = mean_squared_error(Ytest, boosted_test_pred)\n",
    "\n",
    "plt.bar(x=range(81),height=boosted_model.feature_importances_)\n",
    "importance_boosted = pd.DataFrame(boosted_model.feature_importances_,columns=['Importance'])\n",
    "importance_boosted.insert(0, 'Variable', range(0,81))\n",
    "importance_boosted = importance_boosted.sort_values(by=['Importance'], ascending=False)\n",
    "names4 = conductivity.columns[importance_boosted.iloc[0:5,0]]\n",
    "high4 = round(importance_boosted.iloc[0:5,1],4)\n",
    "print('The five most important variables are', list(names4), 'with importances', list(high4), 'respectively')\n",
    "\n",
    "print('Boosted tree training MSE is:', round(boosted_train_mse,4),\n",
    "      ' and the testing MSE is:', round(boosted_test_mse, 4))"
   ]
  },
  {
   "cell_type": "code",
   "execution_count": 15,
   "id": "e8926ed0",
   "metadata": {},
   "outputs": [
    {
     "name": "stdout",
     "output_type": "stream",
     "text": [
      "Linear Regression training MSE is: 310.218  and the testing MSE is: 302.0075\n"
     ]
    }
   ],
   "source": [
    "linear_model = LinearRegression()\n",
    "linear_model.fit(XTrain, YTrain)\n",
    "\n",
    "linear_train_pred = linear_model.predict(XTrain)\n",
    "linear_test_pred = linear_model.predict(XTest)\n",
    "linear_train_mse = mean_squared_error(YTrain, linear_train_pred)\n",
    "linear_test_mse = mean_squared_error(Ytest, linear_test_pred)\n",
    "print('Linear Regression training MSE is:', round(linear_train_mse,4),\n",
    "      ' and the testing MSE is:', round(linear_test_mse, 4))"
   ]
  },
  {
   "cell_type": "code",
   "execution_count": null,
   "id": "fb22a9e2",
   "metadata": {},
   "outputs": [],
   "source": []
  }
 ],
 "metadata": {
  "kernelspec": {
   "display_name": "Python 3",
   "language": "python",
   "name": "python3"
  },
  "language_info": {
   "codemirror_mode": {
    "name": "ipython",
    "version": 3
   },
   "file_extension": ".py",
   "mimetype": "text/x-python",
   "name": "python",
   "nbconvert_exporter": "python",
   "pygments_lexer": "ipython3",
   "version": "3.8.8"
  }
 },
 "nbformat": 4,
 "nbformat_minor": 5
}
